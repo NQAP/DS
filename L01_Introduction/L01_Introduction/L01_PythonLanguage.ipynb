{
 "cells": [
  {
   "cell_type": "markdown",
   "metadata": {
    "id": "uhf1xwJQ0wUs"
   },
   "source": []
  },
  {
   "cell_type": "markdown",
   "metadata": {
    "id": "HoaYh4eq0wU7"
   },
   "source": [
    "# List"
   ]
  },
  {
   "cell_type": "code",
   "execution_count": null,
   "metadata": {
    "id": "opy_Qikl0wU8",
    "outputId": "0ae59f8d-8949-43c8-d8ae-fb0f9ad25d0d"
   },
   "outputs": [
    {
     "name": "stdout",
     "output_type": "stream",
     "text": [
      "[2, True, 'Hi']\n"
     ]
    }
   ],
   "source": [
    "myList=[1,True,'Hi']\n",
    "myList[0]=2\n",
    "print(myList)"
   ]
  },
  {
   "cell_type": "code",
   "execution_count": null,
   "metadata": {
    "id": "QXiOKAaH0wU4",
    "outputId": "609549d4-e609-4ce3-c891-6140a391bb7b"
   },
   "outputs": [
    {
     "name": "stdout",
     "output_type": "stream",
     "text": [
      "Time: 0.010, Position: 0.000.\n",
      "Time: 0.020, Position: 0.000.\n",
      "Time: 0.030, Position: 0.001.\n",
      "Time: 0.040, Position: 0.001.\n",
      "Time: 0.050, Position: 0.002.\n",
      "Time: 0.060, Position: 0.002.\n",
      "Time: 0.070, Position: 0.003.\n",
      "Time: 0.080, Position: 0.004.\n",
      "Time: 0.090, Position: 0.005.\n",
      "Time: 0.100, Position: 0.006.\n",
      "Time: 0.110, Position: 0.007.\n",
      "Time: 0.120, Position: 0.008.\n",
      "Time: 0.130, Position: 0.009.\n",
      "Time: 0.140, Position: 0.010.\n",
      "Time: 0.150, Position: 0.012.\n",
      "Time: 0.160, Position: 0.014.\n",
      "Time: 0.170, Position: 0.015.\n",
      "Time: 0.180, Position: 0.017.\n",
      "Time: 0.190, Position: 0.019.\n",
      "Time: 0.200, Position: 0.021.\n"
     ]
    }
   ],
   "source": [
    "dt = 0.01\n",
    "t = 0\n",
    "bodies = []\n",
    "class Particle:\n",
    "    mass = 1.0\n",
    "    position = 1.0\n",
    "    velocity = 1.0\n",
    "\n",
    "    def __init__(self, mass = 1, position = 0, velocity = 0):    \n",
    "        self.mass = mass\n",
    "        self.position = position\n",
    "        self.velocity = velocity\n",
    "    def addForce(self, f, dt):\n",
    "        self.velocity = self.velocity + f/self.mass*dt\n",
    "    def move(self, dt = 0.01):\n",
    "        self.position = self.position + self.velocity*dt\n",
    "        \n",
    "bodies = []\n",
    "for i in range(0,10):\n",
    "    a = Particle(1,i,i)\n",
    "    bodies.append(a)\n",
    "    \n",
    "t = 0\n",
    "dt = 0.01\n",
    "f = 1\n",
    "while t < 0.2:\n",
    "    for i in range(0,10):\n",
    "        bodies[i].addForce(f,dt)\n",
    "        bodies[i].move(dt)\n",
    "    t = t + dt\n",
    "    print(\"Time: %3.3f, Position: %3.3f.\"%(t, bodies[0].position))"
   ]
  },
  {
   "cell_type": "code",
   "execution_count": null,
   "metadata": {
    "id": "YcF81rCC0wU9",
    "outputId": "030b9670-1720-4749-fa0d-256a1f333467"
   },
   "outputs": [
    {
     "name": "stdout",
     "output_type": "stream",
     "text": [
      "[2, True, 'Hi', 3]\n"
     ]
    }
   ],
   "source": [
    "myList=[2,True,'Hi']\n",
    "A=myList+[3]\n",
    "print(A)"
   ]
  },
  {
   "cell_type": "code",
   "execution_count": null,
   "metadata": {
    "id": "_H1JCfzV0wU-",
    "outputId": "ef87be89-dfbb-400f-b5d1-dfa34ab808f0"
   },
   "outputs": [
    {
     "name": "stdout",
     "output_type": "stream",
     "text": [
      "[2, True, 'Hi', 2, True, 'Hi']\n"
     ]
    }
   ],
   "source": [
    "myList=[2,True,'Hi']\n",
    "A=myList*2\n",
    "print(A)"
   ]
  },
  {
   "cell_type": "code",
   "execution_count": null,
   "metadata": {
    "id": "LBJu7x2b0wU_",
    "outputId": "bf543fe2-adb9-4fd2-e37b-bddfef884291"
   },
   "outputs": [
    {
     "name": "stdout",
     "output_type": "stream",
     "text": [
      "True\n"
     ]
    }
   ],
   "source": [
    "myList=[2,True,'Hi']\n",
    "A=('Hi' in myList)\n",
    "print(A)"
   ]
  },
  {
   "cell_type": "code",
   "execution_count": null,
   "metadata": {
    "id": "7hJ8DNGh0wVA",
    "outputId": "03ad88f2-895e-4377-83a2-9a56476d2515"
   },
   "outputs": [
    {
     "name": "stdout",
     "output_type": "stream",
     "text": [
      "3\n"
     ]
    }
   ],
   "source": [
    "myList=[2,True,'Hi']\n",
    "A=len(myList)\n",
    "print(A)"
   ]
  },
  {
   "cell_type": "code",
   "execution_count": null,
   "metadata": {
    "id": "lQ42fONX0wVB",
    "outputId": "db8b2295-467d-4803-ac50-950fd682d57d"
   },
   "outputs": [
    {
     "name": "stdout",
     "output_type": "stream",
     "text": [
      "[2, True]\n"
     ]
    }
   ],
   "source": [
    "myList=[2,True,'Hi']\n",
    "A=myList[0:2]\n",
    "print(A)"
   ]
  },
  {
   "cell_type": "code",
   "execution_count": null,
   "metadata": {
    "id": "BfED4P6N0wVB",
    "outputId": "e3932f51-75a1-4acb-ee09-49d813996c3e"
   },
   "outputs": [
    {
     "name": "stdout",
     "output_type": "stream",
     "text": [
      "[[1, 2, 3, 4], [1, 2, 3, 4], [1, 2, 3, 4]]\n",
      "[[1, 2, 45, 4], [1, 2, 45, 4], [1, 2, 45, 4]]\n"
     ]
    }
   ],
   "source": [
    "myList = [1,2,3,4]\n",
    "A = [myList]*3\n",
    "print(A)\n",
    "myList[2]=45\n",
    "print(A)"
   ]
  },
  {
   "cell_type": "code",
   "execution_count": null,
   "metadata": {
    "id": "YfDsn-ih0wVC",
    "outputId": "9019e187-bb80-4d7d-c47c-559c11966670"
   },
   "outputs": [
    {
     "name": "stdout",
     "output_type": "stream",
     "text": [
      "[1, 2, 3, 4, 1, 2, 3, 4, 1, 2, 3, 4]\n",
      "[1, 2, 3, 4, 1, 2, 3, 4, 1, 2, 3, 4]\n"
     ]
    }
   ],
   "source": [
    "myList = [1,2,3,4]\n",
    "A = myList*3\n",
    "print(A)\n",
    "myList[2]=45\n",
    "print(A)"
   ]
  },
  {
   "cell_type": "code",
   "execution_count": null,
   "metadata": {
    "id": "4gFyiVXJ0wVD",
    "outputId": "138839d3-8274-467f-a3b9-2947e44872af"
   },
   "outputs": [
    {
     "name": "stdout",
     "output_type": "stream",
     "text": [
      "[[1, 2, 3, 4], [1, 2, 3, 4], [1, 2, 3, 4]]\n",
      "[[1, 2, 45, 4], [1, 2, 45, 4], [1, 2, 45, 4]]\n"
     ]
    }
   ],
   "source": [
    "myList = [1,2,3,4]\n",
    "B = [myList]*3\n",
    "print(B)\n",
    "myList[2]=45\n",
    "print(B)"
   ]
  },
  {
   "cell_type": "code",
   "execution_count": null,
   "metadata": {
    "id": "18zRYwUb0wVE",
    "outputId": "6e8e5094-f276-4315-bdf3-d91c3c9e4d9e"
   },
   "outputs": [
    {
     "name": "stdout",
     "output_type": "stream",
     "text": [
      "0\n",
      "1\n",
      "True\n"
     ]
    }
   ],
   "source": [
    "theSum=0\n",
    "print(theSum)\n",
    "theSum=theSum+1\n",
    "print(theSum)\n",
    "theSum=True\n",
    "print(theSum)"
   ]
  },
  {
   "cell_type": "code",
   "execution_count": null,
   "metadata": {
    "id": "pBK-7Tcm0wVE",
    "outputId": "e023f9db-3481-422f-d34a-74375508fd49"
   },
   "outputs": [
    {
     "name": "stdout",
     "output_type": "stream",
     "text": [
      "[2, True, 'Hi', [0]]\n",
      "None\n"
     ]
    }
   ],
   "source": [
    "myList=[2,True,'Hi']\n",
    "A=myList.append([0])\n",
    "print(myList)\n",
    "print(A)"
   ]
  },
  {
   "cell_type": "code",
   "execution_count": null,
   "metadata": {
    "id": "_LHQZ4UO0wVE",
    "outputId": "d21ceb64-6c5b-4608-8e70-30626171fd1e"
   },
   "outputs": [
    {
     "name": "stdout",
     "output_type": "stream",
     "text": [
      "[2, [0], True, 'Hi']\n",
      "None\n"
     ]
    }
   ],
   "source": [
    "myList=[2,True,'Hi']\n",
    "A=myList.insert(1,[0])\n",
    "print(myList)\n",
    "print(A)"
   ]
  },
  {
   "cell_type": "code",
   "execution_count": null,
   "metadata": {
    "id": "Rk8aHvOd0wVF",
    "outputId": "5d49a2f8-2de4-411a-86b1-5de8e7088643"
   },
   "outputs": [
    {
     "name": "stdout",
     "output_type": "stream",
     "text": [
      "[2, True]\n",
      "Hi\n"
     ]
    }
   ],
   "source": [
    "myList=[2,True,'Hi']\n",
    "A=myList.pop()\n",
    "print(myList)\n",
    "print(A)"
   ]
  },
  {
   "cell_type": "code",
   "execution_count": null,
   "metadata": {
    "id": "JNYVAIY90wVF",
    "outputId": "36971b3a-93da-4fff-c31c-306b197c6854"
   },
   "outputs": [
    {
     "name": "stdout",
     "output_type": "stream",
     "text": [
      "[2, 'Hi']\n",
      "True\n"
     ]
    }
   ],
   "source": [
    "myList=[2,True,'Hi']\n",
    "A=myList.pop(1)\n",
    "print(myList)\n",
    "print(A)"
   ]
  },
  {
   "cell_type": "code",
   "execution_count": null,
   "metadata": {
    "id": "UfwQ6Tih0wVG",
    "outputId": "20fe90a8-1ef1-4d27-a5c3-baacefd4b80a"
   },
   "outputs": [
    {
     "name": "stdout",
     "output_type": "stream",
     "text": [
      "[0, 1, 2, 7]\n",
      "None\n"
     ]
    }
   ],
   "source": [
    "myList=[2,0,1,7]\n",
    "A=myList.sort()\n",
    "print(myList)\n",
    "print(A)"
   ]
  },
  {
   "cell_type": "code",
   "execution_count": null,
   "metadata": {
    "id": "5ZCzLnww0wVH",
    "outputId": "9c4d9ca3-307b-452a-cbdf-1c3da9ec3e6a"
   },
   "outputs": [
    {
     "name": "stdout",
     "output_type": "stream",
     "text": [
      "['Hi', True, 2]\n",
      "None\n"
     ]
    }
   ],
   "source": [
    "myList=[2,True,'Hi']\n",
    "A=myList.reverse()\n",
    "print(myList)\n",
    "print(A)"
   ]
  },
  {
   "cell_type": "code",
   "execution_count": null,
   "metadata": {
    "id": "ZVEHQbCU0wVH",
    "outputId": "8cb95501-2b10-493e-b57c-e4171f510cd4"
   },
   "outputs": [
    {
     "name": "stdout",
     "output_type": "stream",
     "text": [
      "[True, 'Hi']\n"
     ]
    }
   ],
   "source": [
    "myList=[2,True,'Hi']\n",
    "del myList[0]\n",
    "print(myList)"
   ]
  },
  {
   "cell_type": "code",
   "execution_count": null,
   "metadata": {
    "id": "udk9XVH10wVH",
    "outputId": "051ac88b-9b6b-424d-dbfd-81aba10eba07"
   },
   "outputs": [
    {
     "name": "stdout",
     "output_type": "stream",
     "text": [
      "[2, 0, 1, 2]\n",
      "0\n"
     ]
    }
   ],
   "source": [
    "myList=[2,0,1,2]\n",
    "A=myList.index(2)\n",
    "print(myList)\n",
    "print(A)"
   ]
  },
  {
   "cell_type": "code",
   "execution_count": null,
   "metadata": {
    "id": "Ij7MnHSK0wVH",
    "outputId": "a95cc26a-6905-4b68-8469-004b2790cea1"
   },
   "outputs": [
    {
     "name": "stdout",
     "output_type": "stream",
     "text": [
      "[2, 0, 1, 2]\n",
      "2\n"
     ]
    }
   ],
   "source": [
    "myList=[2,0,1,2]\n",
    "A=myList.count(2)\n",
    "print(myList)\n",
    "print(A)"
   ]
  },
  {
   "cell_type": "code",
   "execution_count": null,
   "metadata": {
    "id": "0UWc_3Bl0wVH",
    "outputId": "97f80445-0344-4698-93d1-f09aee7b1d6f"
   },
   "outputs": [
    {
     "name": "stdout",
     "output_type": "stream",
     "text": [
      "[2, 'Hi']\n",
      "None\n"
     ]
    }
   ],
   "source": [
    "myList=[2,True,'Hi']\n",
    "A=myList.remove(True)\n",
    "print(myList)\n",
    "print(A)"
   ]
  },
  {
   "cell_type": "code",
   "execution_count": null,
   "metadata": {
    "id": "9Q78um3L0wVH",
    "outputId": "15da0a6a-5721-4477-e436-2a1d4e141bdb"
   },
   "outputs": [
    {
     "data": {
      "text/plain": [
       "75"
      ]
     },
     "execution_count": 9,
     "metadata": {
      "tags": []
     },
     "output_type": "execute_result"
    }
   ],
   "source": [
    "(54).__add__(21)"
   ]
  },
  {
   "cell_type": "code",
   "execution_count": null,
   "metadata": {
    "id": "jpMnTB0u0wVI",
    "outputId": "2bd7bddf-e77e-40d0-e4e2-9dce0fbc35bf"
   },
   "outputs": [
    {
     "data": {
      "text/plain": [
       "'VICTORIA'"
      ]
     },
     "execution_count": 8,
     "metadata": {
      "tags": []
     },
     "output_type": "execute_result"
    }
   ],
   "source": [
    "(\"Hello \").__add__(\"World\")"
   ]
  },
  {
   "cell_type": "code",
   "execution_count": null,
   "metadata": {
    "id": "4GwOApcY0wVJ",
    "outputId": "227032cb-eb39-4cee-8bdb-8a1846aa363a"
   },
   "outputs": [
    {
     "data": {
      "text/plain": [
       "'VICTORIA'"
      ]
     },
     "execution_count": 5,
     "metadata": {
      "tags": []
     },
     "output_type": "execute_result"
    }
   ],
   "source": [
    "(\"Victoria\").upper()"
   ]
  },
  {
   "cell_type": "code",
   "execution_count": null,
   "metadata": {
    "id": "abT-w8Et0wVJ",
    "outputId": "35f2d9ca-14f1-4ccf-dc20-8bef905a05e0"
   },
   "outputs": [
    {
     "name": "stdout",
     "output_type": "stream",
     "text": [
      "[0, 1, 2, 3, 4, 5, 6, 7, 8, 9]\n",
      "[5, 6, 7, 8, 9]\n",
      "[5, 7, 9]\n",
      "[10, 9, 8, 7, 6, 5, 4, 3, 2]\n"
     ]
    }
   ],
   "source": [
    "A=list(range(10))\n",
    "print(A)\n",
    "A=list(range(5,10))\n",
    "print(A)\n",
    "A=list(range(5,10,2))\n",
    "print(A)\n",
    "A=list(range(10,1,-1))\n",
    "print(A)"
   ]
  },
  {
   "cell_type": "markdown",
   "metadata": {
    "id": "HLK1CWGA0wVK"
   },
   "source": [
    "# String"
   ]
  },
  {
   "cell_type": "code",
   "execution_count": null,
   "metadata": {
    "id": "EEm2_O1W0wVK",
    "outputId": "2e2a75ad-0436-489f-bd6d-26680e840125"
   },
   "outputs": [
    {
     "name": "stdout",
     "output_type": "stream",
     "text": [
      "i\n",
      "VictoriaVictoria\n",
      "8\n"
     ]
    }
   ],
   "source": [
    "myName='Victoria'\n",
    "print(myName[1])\n",
    "print(myName*2)\n",
    "print(len(myName))"
   ]
  },
  {
   "cell_type": "code",
   "execution_count": null,
   "metadata": {
    "id": "cwJYyKxn0wVK",
    "outputId": "411af039-6232-4aec-d598-7358da0a0dad"
   },
   "outputs": [
    {
     "data": {
      "text/plain": [
       "'  Victoria  '"
      ]
     },
     "execution_count": 74,
     "metadata": {
      "tags": []
     },
     "output_type": "execute_result"
    }
   ],
   "source": [
    "myName=\"Victoria\"\n",
    "myName.center(12)"
   ]
  },
  {
   "cell_type": "code",
   "execution_count": null,
   "metadata": {
    "id": "Fe0BSvV60wVL",
    "outputId": "a8b71656-46a4-44a4-fbf5-0128195c12f8"
   },
   "outputs": [
    {
     "data": {
      "text/plain": [
       "2"
      ]
     },
     "execution_count": 71,
     "metadata": {
      "tags": []
     },
     "output_type": "execute_result"
    }
   ],
   "source": [
    "myName=\"Victoria\"\n",
    "A=myName.count('i')"
   ]
  },
  {
   "cell_type": "code",
   "execution_count": null,
   "metadata": {
    "id": "WHhilDC50wVL",
    "outputId": "16e82b33-e0ca-4471-e6e6-ccf6e8166830"
   },
   "outputs": [
    {
     "data": {
      "text/plain": [
       "'Victoria    '"
      ]
     },
     "execution_count": 60,
     "metadata": {
      "tags": []
     },
     "output_type": "execute_result"
    }
   ],
   "source": [
    "myName=\"Victoria\"\n",
    "myName.ljust(12)"
   ]
  },
  {
   "cell_type": "code",
   "execution_count": null,
   "metadata": {
    "id": "_-DriMMd0wVL",
    "outputId": "0a1c6af7-17af-4595-a6ae-0c3a411c2015"
   },
   "outputs": [
    {
     "data": {
      "text/plain": [
       "'victoria'"
      ]
     },
     "execution_count": 61,
     "metadata": {
      "tags": []
     },
     "output_type": "execute_result"
    }
   ],
   "source": [
    "myName=\"Victoria\"\n",
    "myName.lower()"
   ]
  },
  {
   "cell_type": "code",
   "execution_count": null,
   "metadata": {
    "id": "UNQby2280wVL",
    "outputId": "e16f3615-44f3-4ea3-f4db-44302dbe7ca0"
   },
   "outputs": [
    {
     "data": {
      "text/plain": [
       "'Victoria'"
      ]
     },
     "execution_count": 1,
     "metadata": {
      "tags": []
     },
     "output_type": "execute_result"
    }
   ],
   "source": [
    "myName=\"Victoria\"\n",
    "myName.rjust(6)"
   ]
  },
  {
   "cell_type": "code",
   "execution_count": null,
   "metadata": {
    "id": "jWjN9mnV0wVM",
    "outputId": "3bbb2b49-ecb6-461d-8292-c349aa66972d"
   },
   "outputs": [
    {
     "data": {
      "text/plain": [
       "1"
      ]
     },
     "execution_count": 64,
     "metadata": {
      "tags": []
     },
     "output_type": "execute_result"
    }
   ],
   "source": [
    "myName=\"Victoria\"\n",
    "myName.find('i')"
   ]
  },
  {
   "cell_type": "code",
   "execution_count": null,
   "metadata": {
    "id": "Ci7EuEON0wVM",
    "outputId": "e72c98a3-add2-4955-92c0-158eb11a089d"
   },
   "outputs": [
    {
     "data": {
      "text/plain": [
       "['V', 'ctor', 'a']"
      ]
     },
     "execution_count": 65,
     "metadata": {
      "tags": []
     },
     "output_type": "execute_result"
    }
   ],
   "source": [
    "myName=\"Victoria\"\n",
    "myName.split('i')"
   ]
  },
  {
   "cell_type": "code",
   "execution_count": null,
   "metadata": {
    "id": "M-ig3zYd0wVM",
    "outputId": "fdccf67d-74f4-483e-e7da-94bab171117f"
   },
   "outputs": [
    {
     "data": {
      "text/plain": [
       "'VICTORIA'"
      ]
     },
     "execution_count": 66,
     "metadata": {
      "tags": []
     },
     "output_type": "execute_result"
    }
   ],
   "source": [
    "myName=\"Victoria\"\n",
    "myName.upper()"
   ]
  },
  {
   "cell_type": "code",
   "execution_count": null,
   "metadata": {
    "id": "jOmBYZcT0wVM",
    "outputId": "13083fca-b69b-43ec-9d37-8afef94cc84f"
   },
   "outputs": [
    {
     "ename": "TypeError",
     "evalue": "'str' object does not support item assignment",
     "output_type": "error",
     "traceback": [
      "\u001b[0;31m---------------------------------------------------------------------------\u001b[0m",
      "\u001b[0;31mTypeError\u001b[0m                                 Traceback (most recent call last)",
      "\u001b[0;32m<ipython-input-75-117ee37d4ae7>\u001b[0m in \u001b[0;36m<module>\u001b[0;34m()\u001b[0m\n\u001b[1;32m      1\u001b[0m \u001b[0mmyName\u001b[0m\u001b[1;33m=\u001b[0m\u001b[1;34m'Victoria'\u001b[0m\u001b[1;33m\u001b[0m\u001b[0m\n\u001b[0;32m----> 2\u001b[0;31m \u001b[0mmyName\u001b[0m\u001b[1;33m[\u001b[0m\u001b[1;36m0\u001b[0m\u001b[1;33m]\u001b[0m\u001b[1;33m=\u001b[0m\u001b[1;34m'W'\u001b[0m\u001b[1;33m\u001b[0m\u001b[0m\n\u001b[0m",
      "\u001b[0;31mTypeError\u001b[0m: 'str' object does not support item assignment"
     ]
    }
   ],
   "source": [
    "myName='Victoria'\n",
    "myName[0]='W'"
   ]
  },
  {
   "cell_type": "markdown",
   "metadata": {
    "id": "N4J3VsYK0wVN"
   },
   "source": [
    "# Tuple"
   ]
  },
  {
   "cell_type": "code",
   "execution_count": null,
   "metadata": {
    "id": "3j5qDpgJ0wVN",
    "outputId": "a4785b37-eb9f-43d0-b894-a91e63f8d645"
   },
   "outputs": [
    {
     "name": "stdout",
     "output_type": "stream",
     "text": [
      "3\n",
      "(2, True, 4.96, 2, True, 4.96, 2, True, 4.96)\n",
      "(2, True)\n"
     ]
    }
   ],
   "source": [
    "myTuple = (2,True,4.96)\n",
    "print(len(myTuple))\n",
    "print(myTuple*3)\n",
    "print(myTuple[0:2])"
   ]
  },
  {
   "cell_type": "code",
   "execution_count": null,
   "metadata": {
    "id": "dwWdCHh70wVN",
    "outputId": "43195f6f-3d50-41bf-8bd6-cb399a70872b"
   },
   "outputs": [
    {
     "ename": "TypeError",
     "evalue": "'tuple' object does not support item assignment",
     "output_type": "error",
     "traceback": [
      "\u001b[0;31m---------------------------------------------------------------------------\u001b[0m",
      "\u001b[0;31mTypeError\u001b[0m                                 Traceback (most recent call last)",
      "\u001b[0;32m<ipython-input-3-ddcddd2727d4>\u001b[0m in \u001b[0;36m<module>\u001b[0;34m()\u001b[0m\n\u001b[1;32m      1\u001b[0m \u001b[0mmyTuple\u001b[0m \u001b[1;33m=\u001b[0m \u001b[1;33m(\u001b[0m\u001b[1;36m2\u001b[0m\u001b[1;33m,\u001b[0m\u001b[1;32mTrue\u001b[0m\u001b[1;33m,\u001b[0m\u001b[1;36m4.96\u001b[0m\u001b[1;33m)\u001b[0m\u001b[1;33m\u001b[0m\u001b[0m\n\u001b[0;32m----> 2\u001b[0;31m \u001b[0mmyTuple\u001b[0m\u001b[1;33m[\u001b[0m\u001b[1;36m1\u001b[0m\u001b[1;33m]\u001b[0m \u001b[1;33m=\u001b[0m \u001b[1;32mFalse\u001b[0m\u001b[1;33m\u001b[0m\u001b[0m\n\u001b[0m",
      "\u001b[0;31mTypeError\u001b[0m: 'tuple' object does not support item assignment"
     ]
    }
   ],
   "source": [
    "myTuple = (2,True,4.96)\n",
    "myTuple[1] = False"
   ]
  },
  {
   "cell_type": "markdown",
   "metadata": {
    "id": "KCmOxeIx0wVN"
   },
   "source": [
    "# Set"
   ]
  },
  {
   "cell_type": "code",
   "execution_count": null,
   "metadata": {
    "id": "z0GqWyZA0wVN",
    "outputId": "89d2e50c-2969-4cd4-feb6-c43c95a40992"
   },
   "outputs": [
    {
     "name": "stdout",
     "output_type": "stream",
     "text": [
      "{False, 3, 4.5, 6, 'cat'}\n"
     ]
    }
   ],
   "source": [
    "mySet = {3,6,\"cat\",4.5,False}\n",
    "print(mySet)"
   ]
  },
  {
   "cell_type": "code",
   "execution_count": null,
   "metadata": {
    "id": "vAWYsFDN0wVN",
    "outputId": "6404c334-4075-4dfd-d1d1-8875fe1ead94"
   },
   "outputs": [
    {
     "name": "stdout",
     "output_type": "stream",
     "text": [
      "{False, 3, 4.5, 6, 'cat'}\n",
      "set()\n"
     ]
    }
   ],
   "source": [
    "mySet = {3,6,\"cat\",4.5,False,False}\n",
    "print(mySet)\n",
    "mySet = set()\n",
    "print(mySet)"
   ]
  },
  {
   "cell_type": "code",
   "execution_count": null,
   "metadata": {
    "id": "31BhBEtH0wVO",
    "outputId": "b82deb4f-0680-4153-d72b-b9c47db61e87"
   },
   "outputs": [
    {
     "name": "stdout",
     "output_type": "stream",
     "text": [
      "False\n"
     ]
    }
   ],
   "source": [
    "A = \"CAT\" in {3,\"cat\",False}\n",
    "print(A)"
   ]
  },
  {
   "cell_type": "code",
   "execution_count": null,
   "metadata": {
    "id": "dm0jhxL00wVO",
    "outputId": "8e42c3e2-75c0-4e05-ccf9-91e2229327ee"
   },
   "outputs": [
    {
     "name": "stdout",
     "output_type": "stream",
     "text": [
      "3\n"
     ]
    }
   ],
   "source": [
    "A = len({3,\"cat\",False})\n",
    "print(A)"
   ]
  },
  {
   "cell_type": "code",
   "execution_count": null,
   "metadata": {
    "id": "DLS9ikiq0wVP",
    "outputId": "f0d1cbf0-c98e-41e9-df03-77523ea6cea8"
   },
   "outputs": [
    {
     "name": "stdout",
     "output_type": "stream",
     "text": [
      "{False, 2, 3, 'cat'}\n"
     ]
    }
   ],
   "source": [
    "A = {3,\"cat\",False}|{2,\"cat\"}\n",
    "print(A)"
   ]
  },
  {
   "cell_type": "code",
   "execution_count": null,
   "metadata": {
    "id": "8fsJ_JLk0wVP",
    "outputId": "699c26a4-2899-4fe4-d2aa-68fafd29ae50"
   },
   "outputs": [
    {
     "name": "stdout",
     "output_type": "stream",
     "text": [
      "{'cat'}\n"
     ]
    }
   ],
   "source": [
    "A = {3,\"cat\",False}&{2,\"cat\"}\n",
    "print(A)"
   ]
  },
  {
   "cell_type": "code",
   "execution_count": null,
   "metadata": {
    "id": "lKViw8FX0wVP",
    "outputId": "7bddfe66-f4da-4e87-b148-28fb7cb033d7"
   },
   "outputs": [
    {
     "name": "stdout",
     "output_type": "stream",
     "text": [
      "{False, 3}\n"
     ]
    }
   ],
   "source": [
    "A = {3,\"cat\",False}-{2,\"cat\"}\n",
    "print(A)"
   ]
  },
  {
   "cell_type": "code",
   "execution_count": null,
   "metadata": {
    "id": "Dvigk4dS0wVQ",
    "outputId": "aa615894-526d-409a-da00-b7c03e45ae4f"
   },
   "outputs": [
    {
     "name": "stdout",
     "output_type": "stream",
     "text": [
      "True\n"
     ]
    }
   ],
   "source": [
    "A = {False,\"cat\"}<={3,\"cat\",False}\n",
    "print(A)"
   ]
  },
  {
   "cell_type": "code",
   "execution_count": null,
   "metadata": {
    "id": "TRVUxdzP0wVQ",
    "outputId": "2d94a027-dedc-4eae-afe7-b12b515a50e6"
   },
   "outputs": [
    {
     "name": "stdout",
     "output_type": "stream",
     "text": [
      "{False, 'cat', 3}\n",
      "{False, 2, 3, 'cat'}\n"
     ]
    }
   ],
   "source": [
    "mySet = {3,\"cat\",False}\n",
    "A = mySet.union({2,\"cat\"})\n",
    "print(mySet)\n",
    "print(A)"
   ]
  },
  {
   "cell_type": "code",
   "execution_count": null,
   "metadata": {
    "id": "0DPH-J-j0wVR",
    "outputId": "92414803-0789-49f9-88c1-a9bd19871d79"
   },
   "outputs": [
    {
     "name": "stdout",
     "output_type": "stream",
     "text": [
      "{False, 'cat', 3}\n",
      "{'cat'}\n"
     ]
    }
   ],
   "source": [
    "mySet = {3,\"cat\",False}\n",
    "A = mySet.intersection({2,\"cat\"})\n",
    "print(mySet)\n",
    "print(A)"
   ]
  },
  {
   "cell_type": "code",
   "execution_count": null,
   "metadata": {
    "id": "yPLdTAFO0wVR",
    "outputId": "831d6327-0bea-4c35-bf9f-569051bcba31"
   },
   "outputs": [
    {
     "name": "stdout",
     "output_type": "stream",
     "text": [
      "{False, 'cat', 3}\n",
      "{False, 3}\n"
     ]
    }
   ],
   "source": [
    "mySet = {3,\"cat\",False}\n",
    "A = mySet.difference({2,\"cat\"})\n",
    "print(mySet)\n",
    "print(A)"
   ]
  },
  {
   "cell_type": "code",
   "execution_count": null,
   "metadata": {
    "id": "BJdRfKkC0wVR",
    "outputId": "744c5be0-dcf7-4fdb-a864-6e8f33b750b5"
   },
   "outputs": [
    {
     "name": "stdout",
     "output_type": "stream",
     "text": [
      "{'cat', 2}\n",
      "False\n"
     ]
    }
   ],
   "source": [
    "mySet = {2,\"cat\"}\n",
    "A = mySet.issubset({3,\"cat\",False})\n",
    "print(mySet)\n",
    "print(A)"
   ]
  },
  {
   "cell_type": "code",
   "execution_count": null,
   "metadata": {
    "id": "zAHOXJ_k0wVR",
    "outputId": "225df23f-11c5-4fe2-f758-4b1e059bbd54"
   },
   "outputs": [
    {
     "name": "stdout",
     "output_type": "stream",
     "text": [
      "{False, 2, 'cat', 3}\n",
      "None\n"
     ]
    }
   ],
   "source": [
    "mySet = {3,\"cat\",False}\n",
    "A = mySet.add(2)\n",
    "print(mySet)\n",
    "print(A)"
   ]
  },
  {
   "cell_type": "code",
   "execution_count": null,
   "metadata": {
    "id": "0Las5qaq0wVR",
    "outputId": "d9551bae-51d4-4ccc-d252-1b3b9af29c46"
   },
   "outputs": [
    {
     "name": "stdout",
     "output_type": "stream",
     "text": [
      "{False, 'cat'}\n",
      "None\n"
     ]
    }
   ],
   "source": [
    "mySet = {3,\"cat\",False}\n",
    "A = mySet.remove(3)\n",
    "print(mySet)\n",
    "print(A)"
   ]
  },
  {
   "cell_type": "code",
   "execution_count": null,
   "metadata": {
    "id": "hlE7SvJ90wVS",
    "outputId": "9ef9d580-2d13-4ace-fda2-afcbf4d5b81e"
   },
   "outputs": [
    {
     "name": "stdout",
     "output_type": "stream",
     "text": [
      "{'cat', 3}\n",
      "False\n"
     ]
    }
   ],
   "source": [
    "mySet = {3,\"cat\",False}\n",
    "A = mySet.pop()\n",
    "print(mySet)\n",
    "print(A)"
   ]
  },
  {
   "cell_type": "code",
   "execution_count": null,
   "metadata": {
    "id": "wyWUeJjp0wVS",
    "outputId": "59c4e99d-8329-41e2-e6b3-56b68713e7db"
   },
   "outputs": [
    {
     "name": "stdout",
     "output_type": "stream",
     "text": [
      "set()\n",
      "None\n"
     ]
    }
   ],
   "source": [
    "mySet = {3,\"cat\",False}\n",
    "A = mySet.clear()\n",
    "print(mySet)\n",
    "print(A)"
   ]
  },
  {
   "cell_type": "markdown",
   "metadata": {
    "id": "Soxz_MxO0wVS"
   },
   "source": [
    "# Dictionary"
   ]
  },
  {
   "cell_type": "code",
   "execution_count": null,
   "metadata": {
    "id": "er7SV4dM0wVS",
    "outputId": "fc2a36d2-97a8-4af2-e1e4-336e655d38c4"
   },
   "outputs": [
    {
     "name": "stdout",
     "output_type": "stream",
     "text": [
      "DesMoines\n",
      "{'Iowa': 'DesMoines', 'Wisconsin': 'Madison', 'Utah': 'SaltLakeCity'}\n",
      "4\n",
      "DesMoines : Iowa\n",
      "Madison : Wisconsin\n",
      "SaltLakeCity : Utah\n",
      "Sacramento : California\n"
     ]
    }
   ],
   "source": [
    "capitals = {'Iowa':'DesMoines','Wisconsin':'Madison'}\n",
    "print(capitals['Iowa'])\n",
    "capitals['Utah']='SaltLakeCity'\n",
    "print(capitals)\n",
    "capitals['California']='Sacramento'\n",
    "print(len(capitals))\n",
    "for k in capitals:\n",
    "    print(capitals[k],\":\", k)"
   ]
  },
  {
   "cell_type": "code",
   "execution_count": null,
   "metadata": {
    "id": "cA6yt7us0wVT",
    "outputId": "3c7140a2-0bbb-473f-b838-b1ebe19d25b5"
   },
   "outputs": [
    {
     "name": "stdout",
     "output_type": "stream",
     "text": [
      "{'david': 1410, 'brad': 1137}\n",
      "1410\n"
     ]
    }
   ],
   "source": [
    "phone = {'david':1410,'brad':1137}\n",
    "A = phone['david']\n",
    "print(phone)\n",
    "print(A)"
   ]
  },
  {
   "cell_type": "code",
   "execution_count": null,
   "metadata": {
    "id": "75hKfvCS0wVT",
    "outputId": "2a426216-b612-4cdf-a744-df1765f3ab94"
   },
   "outputs": [
    {
     "name": "stdout",
     "output_type": "stream",
     "text": [
      "{'david': 1410, 'brad': 1137}\n",
      "True\n"
     ]
    }
   ],
   "source": [
    "phone = {'david':1410,'brad':1137}\n",
    "A = 'david' in phone\n",
    "print(phone)\n",
    "print(A)"
   ]
  },
  {
   "cell_type": "code",
   "execution_count": null,
   "metadata": {
    "id": "zbVc9gd20wVT",
    "outputId": "b518d945-e700-4880-9db5-89f15b50abb4"
   },
   "outputs": [
    {
     "name": "stdout",
     "output_type": "stream",
     "text": [
      "{'brad': 1137}\n"
     ]
    }
   ],
   "source": [
    "phone = {'david':1410,'brad':1137}\n",
    "del phone['david']\n",
    "print(phone)"
   ]
  },
  {
   "cell_type": "code",
   "execution_count": null,
   "metadata": {
    "id": "MfLw3J3s0wVT",
    "outputId": "4609216e-4557-4720-cea1-5c568ecf811f"
   },
   "outputs": [
    {
     "name": "stdout",
     "output_type": "stream",
     "text": [
      "{'david': 1410, 'brad': 1137}\n",
      "dict_keys(['david', 'brad'])\n"
     ]
    }
   ],
   "source": [
    "phone = {'david':1410,'brad':1137}\n",
    "A = phone.keys()\n",
    "print(phone)\n",
    "print(A)"
   ]
  },
  {
   "cell_type": "code",
   "execution_count": null,
   "metadata": {
    "id": "Bql07L230wVT",
    "outputId": "a00d7e1d-a3d8-4cd0-d943-cb601f3940e6"
   },
   "outputs": [
    {
     "name": "stdout",
     "output_type": "stream",
     "text": [
      "{'david': 1410, 'brad': 1137}\n",
      "dict_values([1410, 1137])\n"
     ]
    }
   ],
   "source": [
    "phone = {'david':1410,'brad':1137}\n",
    "A = phone.values()\n",
    "print(phone)\n",
    "print(A)"
   ]
  },
  {
   "cell_type": "code",
   "execution_count": null,
   "metadata": {
    "id": "GyRBsqs90wVU",
    "outputId": "417e7259-609a-4199-f271-4188b39de836"
   },
   "outputs": [
    {
     "name": "stdout",
     "output_type": "stream",
     "text": [
      "{'david': 1410, 'brad': 1137}\n",
      "dict_items([('david', 1410), ('brad', 1137)])\n"
     ]
    }
   ],
   "source": [
    "phone = {'david':1410,'brad':1137}\n",
    "A = phone.items()\n",
    "print(phone)\n",
    "print(A)"
   ]
  },
  {
   "cell_type": "code",
   "execution_count": null,
   "metadata": {
    "id": "iBuIJRZ50wVU",
    "outputId": "18cb2e6a-8461-4087-d5e3-9599018ab87b"
   },
   "outputs": [
    {
     "name": "stdout",
     "output_type": "stream",
     "text": [
      "{'david': 1410, 'brad': 1137}\n",
      "1410\n"
     ]
    }
   ],
   "source": [
    "phone = {'david':1410,'brad':1137}\n",
    "A = phone.get('david')\n",
    "print(phone)\n",
    "print(A)"
   ]
  },
  {
   "cell_type": "code",
   "execution_count": null,
   "metadata": {
    "id": "9-Y6vYMl0wVU",
    "outputId": "fdbccd3e-1b2e-4d05-dca7-f40b14b15816"
   },
   "outputs": [
    {
     "name": "stdout",
     "output_type": "stream",
     "text": [
      "{'david': 1410, 'brad': 1137}\n",
      "Empty\n"
     ]
    }
   ],
   "source": [
    "phone = {'david':1410,'brad':1137}\n",
    "A = phone.get('lenna','Empty')\n",
    "print(phone)\n",
    "print(A)"
   ]
  },
  {
   "cell_type": "markdown",
   "metadata": {
    "id": "Pj9WAvvZ0wVU"
   },
   "source": [
    "# Input/Output"
   ]
  },
  {
   "cell_type": "code",
   "execution_count": null,
   "metadata": {
    "id": "DEVUt7230wVV",
    "outputId": "900e3c04-8ebf-4dba-dc35-a540b02aa188"
   },
   "outputs": [
    {
     "name": "stdout",
     "output_type": "stream",
     "text": [
      "Please enter your name: Kevin\n"
     ]
    }
   ],
   "source": [
    "sradius = input(\"Please enter the radius of the circle \")\n",
    "radius = float(sradius)\n",
    "diameter = 2 * radius"
   ]
  },
  {
   "cell_type": "code",
   "execution_count": null,
   "metadata": {
    "id": "LR5iBV3p0wVV"
   },
   "outputs": [],
   "source": [
    "class Stack:\n",
    "    def __init__(self):\n",
    "         self.items = []\n",
    "\n",
    "    def isEmpty(self):\n",
    "         return self.items == []\n",
    "\n",
    "    def push(self, item):\n",
    "         self.items.append(item)\n",
    "\n",
    "    def pop(self):\n",
    "         return self.items.pop()\n",
    "\n",
    "    def peek(self):\n",
    "         return self.items[len(self.items)-1]\n",
    "\n",
    "    def size(self):\n",
    "         return len(self.items)"
   ]
  },
  {
   "cell_type": "code",
   "execution_count": null,
   "metadata": {
    "id": "8IVKVyBw0wVV",
    "outputId": "f8368689-a861-4445-fdad-ca3c26939714"
   },
   "outputs": [
    {
     "name": "stdout",
     "output_type": "stream",
     "text": [
      "True\n",
      "dog\n",
      "3\n",
      "False\n",
      "8.4\n",
      "True\n",
      "2\n"
     ]
    }
   ],
   "source": [
    "from pythonds.basic.stack import Stack\n",
    "s=Stack()\n",
    "\n",
    "print(s.isEmpty())\n",
    "s.push(4)\n",
    "s.push('dog')\n",
    "print(s.peek())\n",
    "s.push(True)\n",
    "print(s.size())\n",
    "print(s.isEmpty())\n",
    "s.push(8.4)\n",
    "print(s.pop())\n",
    "print(s.pop())\n",
    "print(s.size())"
   ]
  },
  {
   "cell_type": "code",
   "execution_count": null,
   "metadata": {
    "collapsed": true,
    "id": "N_-kDhuU0wVb"
   },
   "outputs": [],
   "source": []
  }
 ],
 "metadata": {
  "colab": {
   "name": "L01_PythonLanguage.ipynb",
   "provenance": []
  },
  "kernelspec": {
   "display_name": "Python 3",
   "language": "python",
   "name": "python3"
  },
  "language_info": {
   "codemirror_mode": {
    "name": "ipython",
    "version": 3
   },
   "file_extension": ".py",
   "mimetype": "text/x-python",
   "name": "python",
   "nbconvert_exporter": "python",
   "pygments_lexer": "ipython3",
   "version": "3.7.0"
  }
 },
 "nbformat": 4,
 "nbformat_minor": 1
}
