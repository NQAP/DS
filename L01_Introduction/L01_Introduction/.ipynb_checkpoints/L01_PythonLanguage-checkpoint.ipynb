{
 "cells": [
  {
   "cell_type": "code",
   "execution_count": 31,
   "metadata": {},
   "outputs": [
    {
     "name": "stdout",
     "output_type": "stream",
     "text": [
      "Time: 0.010, Position: 0.000.\n",
      "Time: 0.020, Position: 0.000.\n",
      "Time: 0.030, Position: 0.001.\n",
      "Time: 0.040, Position: 0.001.\n",
      "Time: 0.050, Position: 0.002.\n",
      "Time: 0.060, Position: 0.002.\n",
      "Time: 0.070, Position: 0.003.\n",
      "Time: 0.080, Position: 0.004.\n",
      "Time: 0.090, Position: 0.005.\n",
      "Time: 0.100, Position: 0.006.\n",
      "Time: 0.110, Position: 0.007.\n",
      "Time: 0.120, Position: 0.008.\n",
      "Time: 0.130, Position: 0.009.\n",
      "Time: 0.140, Position: 0.010.\n",
      "Time: 0.150, Position: 0.012.\n",
      "Time: 0.160, Position: 0.014.\n",
      "Time: 0.170, Position: 0.015.\n",
      "Time: 0.180, Position: 0.017.\n",
      "Time: 0.190, Position: 0.019.\n",
      "Time: 0.200, Position: 0.021.\n",
      "Time: 0.210, Position: 0.023.\n",
      "Time: 0.220, Position: 0.025.\n",
      "Time: 0.230, Position: 0.028.\n",
      "Time: 0.240, Position: 0.030.\n",
      "Time: 0.250, Position: 0.033.\n",
      "Time: 0.260, Position: 0.035.\n",
      "Time: 0.270, Position: 0.038.\n",
      "Time: 0.280, Position: 0.041.\n",
      "Time: 0.290, Position: 0.044.\n",
      "Time: 0.300, Position: 0.047.\n",
      "Time: 0.310, Position: 0.050.\n",
      "Time: 0.320, Position: 0.053.\n",
      "Time: 0.330, Position: 0.056.\n",
      "Time: 0.340, Position: 0.060.\n",
      "Time: 0.350, Position: 0.063.\n",
      "Time: 0.360, Position: 0.067.\n",
      "Time: 0.370, Position: 0.070.\n",
      "Time: 0.380, Position: 0.074.\n",
      "Time: 0.390, Position: 0.078.\n",
      "Time: 0.400, Position: 0.082.\n",
      "Time: 0.410, Position: 0.086.\n",
      "Time: 0.420, Position: 0.090.\n",
      "Time: 0.430, Position: 0.095.\n",
      "Time: 0.440, Position: 0.099.\n",
      "Time: 0.450, Position: 0.104.\n",
      "Time: 0.460, Position: 0.108.\n",
      "Time: 0.470, Position: 0.113.\n",
      "Time: 0.480, Position: 0.118.\n",
      "Time: 0.490, Position: 0.123.\n",
      "Time: 0.500, Position: 0.128.\n",
      "Time: 0.510, Position: 0.133.\n",
      "Time: 0.520, Position: 0.138.\n",
      "Time: 0.530, Position: 0.143.\n",
      "Time: 0.540, Position: 0.149.\n",
      "Time: 0.550, Position: 0.154.\n",
      "Time: 0.560, Position: 0.160.\n",
      "Time: 0.570, Position: 0.165.\n",
      "Time: 0.580, Position: 0.171.\n",
      "Time: 0.590, Position: 0.177.\n",
      "Time: 0.600, Position: 0.183.\n",
      "Time: 0.610, Position: 0.189.\n",
      "Time: 0.620, Position: 0.195.\n",
      "Time: 0.630, Position: 0.202.\n",
      "Time: 0.640, Position: 0.208.\n",
      "Time: 0.650, Position: 0.215.\n",
      "Time: 0.660, Position: 0.221.\n",
      "Time: 0.670, Position: 0.228.\n",
      "Time: 0.680, Position: 0.235.\n",
      "Time: 0.690, Position: 0.242.\n",
      "Time: 0.700, Position: 0.249.\n",
      "Time: 0.710, Position: 0.256.\n",
      "Time: 0.720, Position: 0.263.\n",
      "Time: 0.730, Position: 0.270.\n",
      "Time: 0.740, Position: 0.278.\n",
      "Time: 0.750, Position: 0.285.\n",
      "Time: 0.760, Position: 0.293.\n",
      "Time: 0.770, Position: 0.300.\n",
      "Time: 0.780, Position: 0.308.\n",
      "Time: 0.790, Position: 0.316.\n",
      "Time: 0.800, Position: 0.324.\n",
      "Time: 0.810, Position: 0.332.\n",
      "Time: 0.820, Position: 0.340.\n",
      "Time: 0.830, Position: 0.349.\n",
      "Time: 0.840, Position: 0.357.\n",
      "Time: 0.850, Position: 0.366.\n",
      "Time: 0.860, Position: 0.374.\n",
      "Time: 0.870, Position: 0.383.\n",
      "Time: 0.880, Position: 0.392.\n",
      "Time: 0.890, Position: 0.401.\n",
      "Time: 0.900, Position: 0.410.\n",
      "Time: 0.910, Position: 0.419.\n",
      "Time: 0.920, Position: 0.428.\n",
      "Time: 0.930, Position: 0.437.\n",
      "Time: 0.940, Position: 0.447.\n",
      "Time: 0.950, Position: 0.456.\n",
      "Time: 0.960, Position: 0.466.\n",
      "Time: 0.970, Position: 0.475.\n",
      "Time: 0.980, Position: 0.485.\n",
      "Time: 0.990, Position: 0.495.\n",
      "Time: 1.000, Position: 0.505.\n"
     ]
    }
   ],
   "source": [
    "dt = 0.01\n",
    "t = 0\n",
    "bodies = []\n",
    "class Particle:\n",
    "    mass = 1.0\n",
    "    position = 1.0\n",
    "    velocity = 1.0\n",
    "\n",
    "    def __init__(self, mass = 1, position = 0, velocity = 0):    \n",
    "        self.mass = mass\n",
    "        self.position = position\n",
    "        self.velocity = velocity\n",
    "    def addForce(self, f, dt):\n",
    "        self.velocity = self.velocity + f/self.mass*dt\n",
    "    def move(self, dt = 0.01):\n",
    "        self.position = self.position + self.velocity*dt\n",
    "        \n",
    "bodies = []\n",
    "for i in range(0,10):\n",
    "    a = Particle(1,i,i)\n",
    "    bodies.append(a)\n",
    "    \n",
    "t = 0\n",
    "dt = 0.01\n",
    "f = 1\n",
    "while t < 1:\n",
    "    for i in range(0,10):\n",
    "        bodies[i].addForce(f,dt)\n",
    "        bodies[i].move(dt)\n",
    "    t = t + dt\n",
    "    print(\"Time: %3.3f, Position: %3.3f.\"%(t, bodies[0].position))"
   ]
  },
  {
   "cell_type": "markdown",
   "metadata": {},
   "source": [
    "# List"
   ]
  },
  {
   "cell_type": "code",
   "execution_count": 1,
   "metadata": {},
   "outputs": [
    {
     "name": "stdout",
     "output_type": "stream",
     "text": [
      "[2, True, 'Hi']\n"
     ]
    }
   ],
   "source": [
    "myList=[1,True,'Hi']\n",
    "myList[0]=2\n",
    "print(myList)"
   ]
  },
  {
   "cell_type": "code",
   "execution_count": 2,
   "metadata": {},
   "outputs": [
    {
     "name": "stdout",
     "output_type": "stream",
     "text": [
      "[2, True, 'Hi', 3]\n"
     ]
    }
   ],
   "source": [
    "myList=[2,True,'Hi']\n",
    "A=myList+[3]\n",
    "print(A)"
   ]
  },
  {
   "cell_type": "code",
   "execution_count": 3,
   "metadata": {},
   "outputs": [
    {
     "name": "stdout",
     "output_type": "stream",
     "text": [
      "[2, True, 'Hi', 2, True, 'Hi']\n"
     ]
    }
   ],
   "source": [
    "myList=[2,True,'Hi']\n",
    "A=myList*2\n",
    "print(A)"
   ]
  },
  {
   "cell_type": "code",
   "execution_count": 4,
   "metadata": {},
   "outputs": [
    {
     "name": "stdout",
     "output_type": "stream",
     "text": [
      "True\n"
     ]
    }
   ],
   "source": [
    "myList=[2,True,'Hi']\n",
    "A=('Hi' in myList)\n",
    "print(A)"
   ]
  },
  {
   "cell_type": "code",
   "execution_count": 5,
   "metadata": {},
   "outputs": [
    {
     "name": "stdout",
     "output_type": "stream",
     "text": [
      "3\n"
     ]
    }
   ],
   "source": [
    "myList=[2,True,'Hi']\n",
    "A=len(myList)\n",
    "print(A)"
   ]
  },
  {
   "cell_type": "code",
   "execution_count": 6,
   "metadata": {},
   "outputs": [
    {
     "name": "stdout",
     "output_type": "stream",
     "text": [
      "[2, True]\n"
     ]
    }
   ],
   "source": [
    "myList=[2,True,'Hi']\n",
    "A=myList[0:2]\n",
    "print(A)"
   ]
  },
  {
   "cell_type": "code",
   "execution_count": 7,
   "metadata": {},
   "outputs": [
    {
     "name": "stdout",
     "output_type": "stream",
     "text": [
      "[[1, 2, 3, 4], [1, 2, 3, 4], [1, 2, 3, 4]]\n",
      "[[1, 2, 45, 4], [1, 2, 45, 4], [1, 2, 45, 4]]\n"
     ]
    }
   ],
   "source": [
    "myList = [1,2,3,4]\n",
    "A = [myList]*3\n",
    "print(A)\n",
    "myList[2]=45\n",
    "print(A)"
   ]
  },
  {
   "cell_type": "code",
   "execution_count": 8,
   "metadata": {},
   "outputs": [
    {
     "name": "stdout",
     "output_type": "stream",
     "text": [
      "[1, 2, 3, 4, 1, 2, 3, 4, 1, 2, 3, 4]\n",
      "[1, 2, 3, 4, 1, 2, 3, 4, 1, 2, 3, 4]\n"
     ]
    }
   ],
   "source": [
    "myList = [1,2,3,4]\n",
    "A = myList*3\n",
    "print(A)\n",
    "myList[2]=45\n",
    "print(A)"
   ]
  },
  {
   "cell_type": "code",
   "execution_count": 9,
   "metadata": {},
   "outputs": [
    {
     "name": "stdout",
     "output_type": "stream",
     "text": [
      "[[1, 2, 3, 4], [1, 2, 3, 4], [1, 2, 3, 4]]\n",
      "[[1, 2, 45, 4], [1, 2, 45, 4], [1, 2, 45, 4]]\n"
     ]
    }
   ],
   "source": [
    "myList = [1,2,3,4]\n",
    "B = [myList]*3\n",
    "print(B)\n",
    "myList[2]=45\n",
    "print(B)"
   ]
  },
  {
   "cell_type": "code",
   "execution_count": 77,
   "metadata": {},
   "outputs": [
    {
     "name": "stdout",
     "output_type": "stream",
     "text": [
      "0\n",
      "1\n",
      "True\n"
     ]
    }
   ],
   "source": [
    "theSum=0\n",
    "print(theSum)\n",
    "theSum=theSum+1\n",
    "print(theSum)\n",
    "theSum=True\n",
    "print(theSum)"
   ]
  },
  {
   "cell_type": "code",
   "execution_count": 24,
   "metadata": {},
   "outputs": [
    {
     "name": "stdout",
     "output_type": "stream",
     "text": [
      "[2, True, 'Hi', [0]]\n",
      "None\n"
     ]
    }
   ],
   "source": [
    "myList=[2,True,'Hi']\n",
    "A=myList.append([0])\n",
    "print(myList)\n",
    "print(A)"
   ]
  },
  {
   "cell_type": "code",
   "execution_count": 23,
   "metadata": {},
   "outputs": [
    {
     "name": "stdout",
     "output_type": "stream",
     "text": [
      "[2, [0], True, 'Hi']\n",
      "None\n"
     ]
    }
   ],
   "source": [
    "myList=[2,True,'Hi']\n",
    "A=myList.insert(1,[0])\n",
    "print(myList)\n",
    "print(A)"
   ]
  },
  {
   "cell_type": "code",
   "execution_count": 25,
   "metadata": {},
   "outputs": [
    {
     "name": "stdout",
     "output_type": "stream",
     "text": [
      "[2, True]\n",
      "Hi\n"
     ]
    }
   ],
   "source": [
    "myList=[2,True,'Hi']\n",
    "A=myList.pop()\n",
    "print(myList)\n",
    "print(A)"
   ]
  },
  {
   "cell_type": "code",
   "execution_count": 26,
   "metadata": {},
   "outputs": [
    {
     "name": "stdout",
     "output_type": "stream",
     "text": [
      "[2, 'Hi']\n",
      "True\n"
     ]
    }
   ],
   "source": [
    "myList=[2,True,'Hi']\n",
    "A=myList.pop(1)\n",
    "print(myList)\n",
    "print(A)"
   ]
  },
  {
   "cell_type": "code",
   "execution_count": 28,
   "metadata": {},
   "outputs": [
    {
     "name": "stdout",
     "output_type": "stream",
     "text": [
      "[0, 1, 2, 7]\n",
      "None\n"
     ]
    }
   ],
   "source": [
    "myList=[2,0,1,7]\n",
    "A=myList.sort()\n",
    "print(myList)\n",
    "print(A)"
   ]
  },
  {
   "cell_type": "code",
   "execution_count": 29,
   "metadata": {},
   "outputs": [
    {
     "name": "stdout",
     "output_type": "stream",
     "text": [
      "['Hi', True, 2]\n",
      "None\n"
     ]
    }
   ],
   "source": [
    "myList=[2,True,'Hi']\n",
    "A=myList.reverse()\n",
    "print(myList)\n",
    "print(A)"
   ]
  },
  {
   "cell_type": "code",
   "execution_count": 32,
   "metadata": {},
   "outputs": [
    {
     "name": "stdout",
     "output_type": "stream",
     "text": [
      "[True, 'Hi']\n"
     ]
    }
   ],
   "source": [
    "myList=[2,True,'Hi']\n",
    "del myList[0]\n",
    "print(myList)"
   ]
  },
  {
   "cell_type": "code",
   "execution_count": 33,
   "metadata": {},
   "outputs": [
    {
     "name": "stdout",
     "output_type": "stream",
     "text": [
      "[2, 0, 1, 2]\n",
      "0\n"
     ]
    }
   ],
   "source": [
    "myList=[2,0,1,2]\n",
    "A=myList.index(2)\n",
    "print(myList)\n",
    "print(A)"
   ]
  },
  {
   "cell_type": "code",
   "execution_count": 34,
   "metadata": {},
   "outputs": [
    {
     "name": "stdout",
     "output_type": "stream",
     "text": [
      "[2, 0, 1, 2]\n",
      "2\n"
     ]
    }
   ],
   "source": [
    "myList=[2,0,1,2]\n",
    "A=myList.count(2)\n",
    "print(myList)\n",
    "print(A)"
   ]
  },
  {
   "cell_type": "code",
   "execution_count": 35,
   "metadata": {},
   "outputs": [
    {
     "name": "stdout",
     "output_type": "stream",
     "text": [
      "[2, 'Hi']\n",
      "None\n"
     ]
    }
   ],
   "source": [
    "myList=[2,True,'Hi']\n",
    "A=myList.remove(True)\n",
    "print(myList)\n",
    "print(A)"
   ]
  },
  {
   "cell_type": "code",
   "execution_count": 9,
   "metadata": {},
   "outputs": [
    {
     "data": {
      "text/plain": [
       "75"
      ]
     },
     "execution_count": 9,
     "metadata": {},
     "output_type": "execute_result"
    }
   ],
   "source": [
    "(54).__add__(21)"
   ]
  },
  {
   "cell_type": "code",
   "execution_count": 8,
   "metadata": {},
   "outputs": [
    {
     "data": {
      "text/plain": [
       "'VICTORIA'"
      ]
     },
     "execution_count": 8,
     "metadata": {},
     "output_type": "execute_result"
    }
   ],
   "source": [
    "(\"Hello \").__add__(\"World\")"
   ]
  },
  {
   "cell_type": "code",
   "execution_count": 5,
   "metadata": {},
   "outputs": [
    {
     "data": {
      "text/plain": [
       "'VICTORIA'"
      ]
     },
     "execution_count": 5,
     "metadata": {},
     "output_type": "execute_result"
    }
   ],
   "source": [
    "(\"Victoria\").upper()"
   ]
  },
  {
   "cell_type": "code",
   "execution_count": 42,
   "metadata": {},
   "outputs": [
    {
     "name": "stdout",
     "output_type": "stream",
     "text": [
      "[0, 1, 2, 3, 4, 5, 6, 7, 8, 9]\n",
      "[5, 6, 7, 8, 9]\n",
      "[5, 7, 9]\n",
      "[10, 9, 8, 7, 6, 5, 4, 3, 2]\n"
     ]
    }
   ],
   "source": [
    "A=list(range(10))\n",
    "print(A)\n",
    "A=list(range(5,10))\n",
    "print(A)\n",
    "A=list(range(5,10,2))\n",
    "print(A)\n",
    "A=list(range(10,1,-1))\n",
    "print(A)"
   ]
  },
  {
   "cell_type": "markdown",
   "metadata": {},
   "source": [
    "# String"
   ]
  },
  {
   "cell_type": "code",
   "execution_count": 76,
   "metadata": {},
   "outputs": [
    {
     "name": "stdout",
     "output_type": "stream",
     "text": [
      "i\n",
      "VictoriaVictoria\n",
      "8\n"
     ]
    }
   ],
   "source": [
    "myName='Victoria'\n",
    "print(myName[1])\n",
    "print(myName*2)\n",
    "print(len(myName))"
   ]
  },
  {
   "cell_type": "code",
   "execution_count": 74,
   "metadata": {},
   "outputs": [
    {
     "data": {
      "text/plain": [
       "'  Victoria  '"
      ]
     },
     "execution_count": 74,
     "metadata": {},
     "output_type": "execute_result"
    }
   ],
   "source": [
    "myName=\"Victoria\"\n",
    "myName.center(12)"
   ]
  },
  {
   "cell_type": "code",
   "execution_count": 71,
   "metadata": {},
   "outputs": [
    {
     "data": {
      "text/plain": [
       "2"
      ]
     },
     "execution_count": 71,
     "metadata": {},
     "output_type": "execute_result"
    }
   ],
   "source": [
    "myName=\"Victoria\"\n",
    "A=myName.count('i')"
   ]
  },
  {
   "cell_type": "code",
   "execution_count": 60,
   "metadata": {},
   "outputs": [
    {
     "data": {
      "text/plain": [
       "'Victoria    '"
      ]
     },
     "execution_count": 60,
     "metadata": {},
     "output_type": "execute_result"
    }
   ],
   "source": [
    "myName=\"Victoria\"\n",
    "myName.ljust(12)"
   ]
  },
  {
   "cell_type": "code",
   "execution_count": 61,
   "metadata": {},
   "outputs": [
    {
     "data": {
      "text/plain": [
       "'victoria'"
      ]
     },
     "execution_count": 61,
     "metadata": {},
     "output_type": "execute_result"
    }
   ],
   "source": [
    "myName=\"Victoria\"\n",
    "myName.lower()"
   ]
  },
  {
   "cell_type": "code",
   "execution_count": 1,
   "metadata": {},
   "outputs": [
    {
     "data": {
      "text/plain": [
       "'Victoria'"
      ]
     },
     "execution_count": 1,
     "metadata": {},
     "output_type": "execute_result"
    }
   ],
   "source": [
    "myName=\"Victoria\"\n",
    "myName.rjust(6)"
   ]
  },
  {
   "cell_type": "code",
   "execution_count": 64,
   "metadata": {},
   "outputs": [
    {
     "data": {
      "text/plain": [
       "1"
      ]
     },
     "execution_count": 64,
     "metadata": {},
     "output_type": "execute_result"
    }
   ],
   "source": [
    "myName=\"Victoria\"\n",
    "myName.find('i')"
   ]
  },
  {
   "cell_type": "code",
   "execution_count": 65,
   "metadata": {},
   "outputs": [
    {
     "data": {
      "text/plain": [
       "['V', 'ctor', 'a']"
      ]
     },
     "execution_count": 65,
     "metadata": {},
     "output_type": "execute_result"
    }
   ],
   "source": [
    "myName=\"Victoria\"\n",
    "myName.split('i')"
   ]
  },
  {
   "cell_type": "code",
   "execution_count": 66,
   "metadata": {},
   "outputs": [
    {
     "data": {
      "text/plain": [
       "'VICTORIA'"
      ]
     },
     "execution_count": 66,
     "metadata": {},
     "output_type": "execute_result"
    }
   ],
   "source": [
    "myName=\"Victoria\"\n",
    "myName.upper()"
   ]
  },
  {
   "cell_type": "code",
   "execution_count": 75,
   "metadata": {},
   "outputs": [
    {
     "ename": "TypeError",
     "evalue": "'str' object does not support item assignment",
     "output_type": "error",
     "traceback": [
      "\u001b[0;31m---------------------------------------------------------------------------\u001b[0m",
      "\u001b[0;31mTypeError\u001b[0m                                 Traceback (most recent call last)",
      "\u001b[0;32m<ipython-input-75-117ee37d4ae7>\u001b[0m in \u001b[0;36m<module>\u001b[0;34m()\u001b[0m\n\u001b[1;32m      1\u001b[0m \u001b[0mmyName\u001b[0m\u001b[1;33m=\u001b[0m\u001b[1;34m'Victoria'\u001b[0m\u001b[1;33m\u001b[0m\u001b[0m\n\u001b[0;32m----> 2\u001b[0;31m \u001b[0mmyName\u001b[0m\u001b[1;33m[\u001b[0m\u001b[1;36m0\u001b[0m\u001b[1;33m]\u001b[0m\u001b[1;33m=\u001b[0m\u001b[1;34m'W'\u001b[0m\u001b[1;33m\u001b[0m\u001b[0m\n\u001b[0m",
      "\u001b[0;31mTypeError\u001b[0m: 'str' object does not support item assignment"
     ]
    }
   ],
   "source": [
    "myName='Victoria'\n",
    "myName[0]='W'"
   ]
  },
  {
   "cell_type": "markdown",
   "metadata": {},
   "source": [
    "# Tuple"
   ]
  },
  {
   "cell_type": "code",
   "execution_count": 4,
   "metadata": {},
   "outputs": [
    {
     "name": "stdout",
     "output_type": "stream",
     "text": [
      "3\n",
      "(2, True, 4.96, 2, True, 4.96, 2, True, 4.96)\n",
      "(2, True)\n"
     ]
    }
   ],
   "source": [
    "myTuple = (2,True,4.96)\n",
    "print(len(myTuple))\n",
    "print(myTuple*3)\n",
    "print(myTuple[0:2])"
   ]
  },
  {
   "cell_type": "code",
   "execution_count": 3,
   "metadata": {},
   "outputs": [
    {
     "ename": "TypeError",
     "evalue": "'tuple' object does not support item assignment",
     "output_type": "error",
     "traceback": [
      "\u001b[0;31m---------------------------------------------------------------------------\u001b[0m",
      "\u001b[0;31mTypeError\u001b[0m                                 Traceback (most recent call last)",
      "\u001b[0;32m<ipython-input-3-ddcddd2727d4>\u001b[0m in \u001b[0;36m<module>\u001b[0;34m()\u001b[0m\n\u001b[1;32m      1\u001b[0m \u001b[0mmyTuple\u001b[0m \u001b[1;33m=\u001b[0m \u001b[1;33m(\u001b[0m\u001b[1;36m2\u001b[0m\u001b[1;33m,\u001b[0m\u001b[1;32mTrue\u001b[0m\u001b[1;33m,\u001b[0m\u001b[1;36m4.96\u001b[0m\u001b[1;33m)\u001b[0m\u001b[1;33m\u001b[0m\u001b[0m\n\u001b[0;32m----> 2\u001b[0;31m \u001b[0mmyTuple\u001b[0m\u001b[1;33m[\u001b[0m\u001b[1;36m1\u001b[0m\u001b[1;33m]\u001b[0m \u001b[1;33m=\u001b[0m \u001b[1;32mFalse\u001b[0m\u001b[1;33m\u001b[0m\u001b[0m\n\u001b[0m",
      "\u001b[0;31mTypeError\u001b[0m: 'tuple' object does not support item assignment"
     ]
    }
   ],
   "source": [
    "myTuple = (2,True,4.96)\n",
    "myTuple[1] = False"
   ]
  },
  {
   "cell_type": "markdown",
   "metadata": {},
   "source": [
    "# Set"
   ]
  },
  {
   "cell_type": "code",
   "execution_count": 6,
   "metadata": {},
   "outputs": [
    {
     "name": "stdout",
     "output_type": "stream",
     "text": [
      "{False, 3, 4.5, 6, 'cat'}\n"
     ]
    }
   ],
   "source": [
    "mySet = {3,6,\"cat\",4.5,False}\n",
    "print(mySet)"
   ]
  },
  {
   "cell_type": "code",
   "execution_count": 11,
   "metadata": {},
   "outputs": [
    {
     "name": "stdout",
     "output_type": "stream",
     "text": [
      "{False, 3, 4.5, 6, 'cat'}\n",
      "set()\n"
     ]
    }
   ],
   "source": [
    "mySet = {3,6,\"cat\",4.5,False,False}\n",
    "print(mySet)\n",
    "mySet = set()\n",
    "print(mySet)"
   ]
  },
  {
   "cell_type": "code",
   "execution_count": 17,
   "metadata": {},
   "outputs": [
    {
     "name": "stdout",
     "output_type": "stream",
     "text": [
      "False\n"
     ]
    }
   ],
   "source": [
    "A = \"CAT\" in {3,\"cat\",False}\n",
    "print(A)"
   ]
  },
  {
   "cell_type": "code",
   "execution_count": 18,
   "metadata": {},
   "outputs": [
    {
     "name": "stdout",
     "output_type": "stream",
     "text": [
      "3\n"
     ]
    }
   ],
   "source": [
    "A = len({3,\"cat\",False})\n",
    "print(A)"
   ]
  },
  {
   "cell_type": "code",
   "execution_count": 19,
   "metadata": {},
   "outputs": [
    {
     "name": "stdout",
     "output_type": "stream",
     "text": [
      "{False, 2, 3, 'cat'}\n"
     ]
    }
   ],
   "source": [
    "A = {3,\"cat\",False}|{2,\"cat\"}\n",
    "print(A)"
   ]
  },
  {
   "cell_type": "code",
   "execution_count": 20,
   "metadata": {},
   "outputs": [
    {
     "name": "stdout",
     "output_type": "stream",
     "text": [
      "{'cat'}\n"
     ]
    }
   ],
   "source": [
    "A = {3,\"cat\",False}&{2,\"cat\"}\n",
    "print(A)"
   ]
  },
  {
   "cell_type": "code",
   "execution_count": 22,
   "metadata": {},
   "outputs": [
    {
     "name": "stdout",
     "output_type": "stream",
     "text": [
      "{False, 3}\n"
     ]
    }
   ],
   "source": [
    "A = {3,\"cat\",False}-{2,\"cat\"}\n",
    "print(A)"
   ]
  },
  {
   "cell_type": "code",
   "execution_count": 23,
   "metadata": {},
   "outputs": [
    {
     "name": "stdout",
     "output_type": "stream",
     "text": [
      "True\n"
     ]
    }
   ],
   "source": [
    "A = {False,\"cat\"}<={3,\"cat\",False}\n",
    "print(A)"
   ]
  },
  {
   "cell_type": "code",
   "execution_count": 40,
   "metadata": {},
   "outputs": [
    {
     "name": "stdout",
     "output_type": "stream",
     "text": [
      "{False, 'cat', 3}\n",
      "{False, 2, 3, 'cat'}\n"
     ]
    }
   ],
   "source": [
    "mySet = {3,\"cat\",False}\n",
    "A = mySet.union({2,\"cat\"})\n",
    "print(mySet)\n",
    "print(A)"
   ]
  },
  {
   "cell_type": "code",
   "execution_count": 41,
   "metadata": {},
   "outputs": [
    {
     "name": "stdout",
     "output_type": "stream",
     "text": [
      "{False, 'cat', 3}\n",
      "{'cat'}\n"
     ]
    }
   ],
   "source": [
    "mySet = {3,\"cat\",False}\n",
    "A = mySet.intersection({2,\"cat\"})\n",
    "print(mySet)\n",
    "print(A)"
   ]
  },
  {
   "cell_type": "code",
   "execution_count": 42,
   "metadata": {},
   "outputs": [
    {
     "name": "stdout",
     "output_type": "stream",
     "text": [
      "{False, 'cat', 3}\n",
      "{False, 3}\n"
     ]
    }
   ],
   "source": [
    "mySet = {3,\"cat\",False}\n",
    "A = mySet.difference({2,\"cat\"})\n",
    "print(mySet)\n",
    "print(A)"
   ]
  },
  {
   "cell_type": "code",
   "execution_count": 43,
   "metadata": {},
   "outputs": [
    {
     "name": "stdout",
     "output_type": "stream",
     "text": [
      "{'cat', 2}\n",
      "False\n"
     ]
    }
   ],
   "source": [
    "mySet = {2,\"cat\"}\n",
    "A = mySet.issubset({3,\"cat\",False})\n",
    "print(mySet)\n",
    "print(A)"
   ]
  },
  {
   "cell_type": "code",
   "execution_count": 44,
   "metadata": {},
   "outputs": [
    {
     "name": "stdout",
     "output_type": "stream",
     "text": [
      "{False, 2, 'cat', 3}\n",
      "None\n"
     ]
    }
   ],
   "source": [
    "mySet = {3,\"cat\",False}\n",
    "A = mySet.add(2)\n",
    "print(mySet)\n",
    "print(A)"
   ]
  },
  {
   "cell_type": "code",
   "execution_count": 45,
   "metadata": {},
   "outputs": [
    {
     "name": "stdout",
     "output_type": "stream",
     "text": [
      "{False, 'cat'}\n",
      "None\n"
     ]
    }
   ],
   "source": [
    "mySet = {3,\"cat\",False}\n",
    "A = mySet.remove(3)\n",
    "print(mySet)\n",
    "print(A)"
   ]
  },
  {
   "cell_type": "code",
   "execution_count": 46,
   "metadata": {},
   "outputs": [
    {
     "name": "stdout",
     "output_type": "stream",
     "text": [
      "{'cat', 3}\n",
      "False\n"
     ]
    }
   ],
   "source": [
    "mySet = {3,\"cat\",False}\n",
    "A = mySet.pop()\n",
    "print(mySet)\n",
    "print(A)"
   ]
  },
  {
   "cell_type": "code",
   "execution_count": 47,
   "metadata": {},
   "outputs": [
    {
     "name": "stdout",
     "output_type": "stream",
     "text": [
      "set()\n",
      "None\n"
     ]
    }
   ],
   "source": [
    "mySet = {3,\"cat\",False}\n",
    "A = mySet.clear()\n",
    "print(mySet)\n",
    "print(A)"
   ]
  },
  {
   "cell_type": "markdown",
   "metadata": {},
   "source": [
    "# Dictionary"
   ]
  },
  {
   "cell_type": "code",
   "execution_count": 50,
   "metadata": {
    "slideshow": {
     "slide_type": "-"
    }
   },
   "outputs": [
    {
     "name": "stdout",
     "output_type": "stream",
     "text": [
      "DesMoines\n",
      "{'Iowa': 'DesMoines', 'Wisconsin': 'Madison', 'Utah': 'SaltLakeCity'}\n",
      "4\n",
      "DesMoines : Iowa\n",
      "Madison : Wisconsin\n",
      "SaltLakeCity : Utah\n",
      "Sacramento : California\n"
     ]
    }
   ],
   "source": [
    "capitals = {'Iowa':'DesMoines','Wisconsin':'Madison'}\n",
    "print(capitals['Iowa'])\n",
    "capitals['Utah']='SaltLakeCity'\n",
    "print(capitals)\n",
    "capitals['California']='Sacramento'\n",
    "print(len(capitals))\n",
    "for k in capitals:\n",
    "   print(capitals[k],\":\", k)"
   ]
  },
  {
   "cell_type": "code",
   "execution_count": 54,
   "metadata": {},
   "outputs": [
    {
     "name": "stdout",
     "output_type": "stream",
     "text": [
      "{'david': 1410, 'brad': 1137}\n",
      "1410\n"
     ]
    }
   ],
   "source": [
    "phone = {'david':1410,'brad':1137}\n",
    "A = phone['david']\n",
    "print(phone)\n",
    "print(A)"
   ]
  },
  {
   "cell_type": "code",
   "execution_count": 55,
   "metadata": {},
   "outputs": [
    {
     "name": "stdout",
     "output_type": "stream",
     "text": [
      "{'david': 1410, 'brad': 1137}\n",
      "True\n"
     ]
    }
   ],
   "source": [
    "phone = {'david':1410,'brad':1137}\n",
    "A = 'david' in phone\n",
    "print(phone)\n",
    "print(A)"
   ]
  },
  {
   "cell_type": "code",
   "execution_count": 58,
   "metadata": {},
   "outputs": [
    {
     "name": "stdout",
     "output_type": "stream",
     "text": [
      "{'brad': 1137}\n"
     ]
    }
   ],
   "source": [
    "phone = {'david':1410,'brad':1137}\n",
    "del phone['david']\n",
    "print(phone)"
   ]
  },
  {
   "cell_type": "code",
   "execution_count": 59,
   "metadata": {},
   "outputs": [
    {
     "name": "stdout",
     "output_type": "stream",
     "text": [
      "{'david': 1410, 'brad': 1137}\n",
      "dict_keys(['david', 'brad'])\n"
     ]
    }
   ],
   "source": [
    "phone = {'david':1410,'brad':1137}\n",
    "A = phone.keys()\n",
    "print(phone)\n",
    "print(A)"
   ]
  },
  {
   "cell_type": "code",
   "execution_count": 60,
   "metadata": {},
   "outputs": [
    {
     "name": "stdout",
     "output_type": "stream",
     "text": [
      "{'david': 1410, 'brad': 1137}\n",
      "dict_values([1410, 1137])\n"
     ]
    }
   ],
   "source": [
    "phone = {'david':1410,'brad':1137}\n",
    "A = phone.values()\n",
    "print(phone)\n",
    "print(A)"
   ]
  },
  {
   "cell_type": "code",
   "execution_count": 61,
   "metadata": {},
   "outputs": [
    {
     "name": "stdout",
     "output_type": "stream",
     "text": [
      "{'david': 1410, 'brad': 1137}\n",
      "dict_items([('david', 1410), ('brad', 1137)])\n"
     ]
    }
   ],
   "source": [
    "phone = {'david':1410,'brad':1137}\n",
    "A = phone.items()\n",
    "print(phone)\n",
    "print(A)"
   ]
  },
  {
   "cell_type": "code",
   "execution_count": 63,
   "metadata": {},
   "outputs": [
    {
     "name": "stdout",
     "output_type": "stream",
     "text": [
      "{'david': 1410, 'brad': 1137}\n",
      "1410\n"
     ]
    }
   ],
   "source": [
    "phone = {'david':1410,'brad':1137}\n",
    "A = phone.get('david')\n",
    "print(phone)\n",
    "print(A)"
   ]
  },
  {
   "cell_type": "code",
   "execution_count": 66,
   "metadata": {},
   "outputs": [
    {
     "name": "stdout",
     "output_type": "stream",
     "text": [
      "{'david': 1410, 'brad': 1137}\n",
      "Empty\n"
     ]
    }
   ],
   "source": [
    "phone = {'david':1410,'brad':1137}\n",
    "A = phone.get('lenna','Empty')\n",
    "print(phone)\n",
    "print(A)"
   ]
  },
  {
   "cell_type": "markdown",
   "metadata": {},
   "source": [
    "# Input/Output"
   ]
  },
  {
   "cell_type": "code",
   "execution_count": 67,
   "metadata": {},
   "outputs": [
    {
     "name": "stdout",
     "output_type": "stream",
     "text": [
      "Please enter your name: Kevin\n"
     ]
    }
   ],
   "source": [
    "sradius = input(\"Please enter the radius of the circle \")\n",
    "radius = float(sradius)\n",
    "diameter = 2 * radius"
   ]
  },
  {
   "cell_type": "code",
   "execution_count": 8,
   "metadata": {},
   "outputs": [],
   "source": [
    "class Stack:\n",
    "     def __init__(self):\n",
    "         self.items = []\n",
    "\n",
    "     def isEmpty(self):\n",
    "         return self.items == []\n",
    "\n",
    "     def push(self, item):\n",
    "         self.items.append(item)\n",
    "\n",
    "     def pop(self):\n",
    "         return self.items.pop()\n",
    "\n",
    "     def peek(self):\n",
    "         return self.items[len(self.items)-1]\n",
    "\n",
    "     def size(self):\n",
    "         return len(self.items)"
   ]
  },
  {
   "cell_type": "code",
   "execution_count": 11,
   "metadata": {},
   "outputs": [
    {
     "name": "stdout",
     "output_type": "stream",
     "text": [
      "True\n",
      "dog\n",
      "3\n",
      "False\n",
      "8.4\n",
      "True\n",
      "2\n"
     ]
    }
   ],
   "source": [
    "from pythonds.basic.stack import Stack\n",
    "s=Stack()\n",
    "\n",
    "print(s.isEmpty())\n",
    "s.push(4)\n",
    "s.push('dog')\n",
    "print(s.peek())\n",
    "s.push(True)\n",
    "print(s.size())\n",
    "print(s.isEmpty())\n",
    "s.push(8.4)\n",
    "print(s.pop())\n",
    "print(s.pop())\n",
    "print(s.size())"
   ]
  },
  {
   "cell_type": "code",
   "execution_count": null,
   "metadata": {
    "collapsed": true
   },
   "outputs": [],
   "source": []
  }
 ],
 "metadata": {
  "kernelspec": {
   "display_name": "Python 3",
   "language": "python",
   "name": "python3"
  },
  "language_info": {
   "codemirror_mode": {
    "name": "ipython",
    "version": 3
   },
   "file_extension": ".py",
   "mimetype": "text/x-python",
   "name": "python",
   "nbconvert_exporter": "python",
   "pygments_lexer": "ipython3",
   "version": "3.7.0"
  }
 },
 "nbformat": 4,
 "nbformat_minor": 2
}
